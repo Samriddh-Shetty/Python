{
 "cells": [
  {
   "cell_type": "code",
   "execution_count": 9,
   "id": "c6e4394f",
   "metadata": {},
   "outputs": [
    {
     "name": "stdout",
     "output_type": "stream",
     "text": [
      "********************************************************************************************\n",
      "**************************WELCOME TO SHETTY CANDY SHOP*************************************\n",
      "Do you want to buy some candies ?\n",
      "PRESS Y TO SAY YES AND N TO SAY NO\n",
      " ENTER YES OR NON\n",
      "I see, please feel free to look around\n"
     ]
    }
   ],
   "source": [
    "print(\"********************************************************************************************\")\n",
    "print(\"**************************WELCOME TO SHETTY CANDY SHOP*************************************\")\n",
    "CANDY=100\n",
    "COST=5\n",
    "print(\"Do you want to buy some candies ?\")\n",
    "print(\"PRESS Y TO SAY YES AND N TO SAY NO\")\n",
    "ch=input(\" ENTER YES OR NO\")\n",
    "while ch=='Y' or ch=='y':\n",
    "    print(\"How many Candies would you like?\")\n",
    "    candies=int(input(\"ENTER THE NO OF CANDIES YOU WANT\"))\n",
    "    if candies<=CANDY:\n",
    "        Amount=candies*COST\n",
    "        print(\"HERE ARE YOUR CANDIES, YOUR TOTAL WOULD BE RS\",Amount)\n",
    "        if CANDY-candies>0:\n",
    "            print(\"WE HAVE\",CANDY-candies, \"left in the shop, Do you need more?\")\n",
    "            ch=input(\"ENTER YES OR NO\")\n",
    "            CANDY=CANDY-candies\n",
    "    else:\n",
    "        print(\"SORRY WE DON'T HAVE ENOUGH CANDIES PLEASE COME TOMORROW\")\n",
    "        print(\"SORRY for the inconvienience Please come again\")\n",
    "        break\n",
    "if ch==\"N\" or ch==\"n\":\n",
    "    print(\"I see, please feel free to look around\")\n",
    " \n",
    "    \n",
    "\n",
    "    "
   ]
  },
  {
   "cell_type": "code",
   "execution_count": null,
   "id": "ad724a3f",
   "metadata": {},
   "outputs": [],
   "source": []
  },
  {
   "cell_type": "code",
   "execution_count": null,
   "id": "f842fae2",
   "metadata": {},
   "outputs": [],
   "source": []
  },
  {
   "cell_type": "code",
   "execution_count": null,
   "id": "bdb93094",
   "metadata": {},
   "outputs": [],
   "source": []
  },
  {
   "cell_type": "code",
   "execution_count": null,
   "id": "d1206ca2",
   "metadata": {},
   "outputs": [],
   "source": []
  },
  {
   "cell_type": "code",
   "execution_count": null,
   "id": "5386d304",
   "metadata": {},
   "outputs": [],
   "source": []
  },
  {
   "cell_type": "code",
   "execution_count": null,
   "id": "696456b7",
   "metadata": {},
   "outputs": [],
   "source": []
  },
  {
   "cell_type": "code",
   "execution_count": null,
   "id": "9a623493",
   "metadata": {},
   "outputs": [],
   "source": []
  }
 ],
 "metadata": {
  "kernelspec": {
   "display_name": "Python 3 (ipykernel)",
   "language": "python",
   "name": "python3"
  },
  "language_info": {
   "codemirror_mode": {
    "name": "ipython",
    "version": 3
   },
   "file_extension": ".py",
   "mimetype": "text/x-python",
   "name": "python",
   "nbconvert_exporter": "python",
   "pygments_lexer": "ipython3",
   "version": "3.9.13"
  }
 },
 "nbformat": 4,
 "nbformat_minor": 5
}
