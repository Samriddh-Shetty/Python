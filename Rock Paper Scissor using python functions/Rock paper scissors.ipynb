{
 "cells": [
  {
   "cell_type": "code",
   "execution_count": null,
   "id": "4ae83134",
   "metadata": {},
   "outputs": [],
   "source": [
    "\n",
    "\n",
    "def Compgame(comp,a):\n",
    "    if comp==a:\n",
    "        return None\n",
    "    elif comp==\"P\":\n",
    "        if a==\"R\":\n",
    "            return False\n",
    "        elif a==\"S\":\n",
    "            return True\n",
    "    elif comp==\"R\":\n",
    "        if a==\"S\":\n",
    "            return False\n",
    "        elif a==\"P\":\n",
    "            return True\n",
    "    elif comp==\"S\":\n",
    "        if a==\"R\":\n",
    "            return True\n",
    "        elif a==\"P\":\n",
    "            return False\n",
    " \n",
    "    pass\n",
    "\n",
    "\n",
    "\n"
   ]
  },
  {
   "cell_type": "code",
   "execution_count": null,
   "id": "6e1f6423",
   "metadata": {},
   "outputs": [
    {
     "name": "stdout",
     "output_type": "stream",
     "text": [
      "*************ROCK**************PAPER***************SCISSORS\n"
     ]
    }
   ],
   "source": [
    "def Compgame(comp,a):\n",
    "    if comp==a:\n",
    "        return None\n",
    "    elif comp==\"P\":\n",
    "        if a==\"R\":\n",
    "            return False\n",
    "        elif a==\"S\":\n",
    "            return True\n",
    "    elif comp==\"R\":\n",
    "        if a==\"S\":\n",
    "            return False\n",
    "        elif a==\"P\":\n",
    "            return True\n",
    "    elif comp==\"S\":\n",
    "        if a==\"R\":\n",
    "            return True\n",
    "        elif a==\"P\":\n",
    "            return False\n",
    " \n",
    "    pass\n",
    "\n",
    "\n",
    "\n",
    "\n",
    "import random\n",
    "r=random.randint(1,3)\n",
    "if r==1:\n",
    "    comp=\"R\" \n",
    "elif r==2:\n",
    "    comp=\"P\"\n",
    "elif r==3:\n",
    "    comp=\"S\"\n",
    "\n",
    "print(\"*************ROCK**************PAPER***************SCISSORS\")\n",
    "player=input(\"Enter Your Choice\")\n",
    "\n",
    "\n",
    "result = Compgame(player,comp)\n",
    "print(\"Your Choice\",player)\n",
    "print(\"Comp Choice\",comp)\n",
    "if result is None:\n",
    "    print(\"Its a Tie\")\n",
    "elif result is False:\n",
    "    print(\"You LOSE\")\n",
    "elif result is True:\n",
    "    print(\"You Win\")\n"
   ]
  },
  {
   "cell_type": "code",
   "execution_count": null,
   "id": "c92b1bc6",
   "metadata": {},
   "outputs": [],
   "source": [
    "import random\n",
    "\n",
    "options = [\"R\", \"P\", \"S\"]\n",
    "comp_choice = random.choice(options)\n",
    "\n",
    "player = input(\"Enter your choice (R/P/S): \")\n",
    "\n",
    "result = Compgame(player, comp_choice)\n",
    "if result is None:\n",
    "    print(\"It's a tie!\")\n",
    "elif result:\n",
    "    print(\"You win!\")\n",
    "else:\n",
    "    print(\"You lose.\")"
   ]
  },
  {
   "cell_type": "code",
   "execution_count": null,
   "id": "1d91284f",
   "metadata": {},
   "outputs": [],
   "source": []
  },
  {
   "cell_type": "code",
   "execution_count": null,
   "id": "e48e666b",
   "metadata": {},
   "outputs": [],
   "source": []
  },
  {
   "cell_type": "code",
   "execution_count": null,
   "id": "0e846115",
   "metadata": {},
   "outputs": [],
   "source": []
  },
  {
   "cell_type": "code",
   "execution_count": null,
   "id": "9e704cbf",
   "metadata": {},
   "outputs": [],
   "source": []
  },
  {
   "cell_type": "code",
   "execution_count": null,
   "id": "35e26156",
   "metadata": {},
   "outputs": [],
   "source": []
  },
  {
   "cell_type": "code",
   "execution_count": null,
   "id": "e7e6b7f3",
   "metadata": {},
   "outputs": [],
   "source": []
  }
 ],
 "metadata": {
  "kernelspec": {
   "display_name": "Python 3 (ipykernel)",
   "language": "python",
   "name": "python3"
  },
  "language_info": {
   "codemirror_mode": {
    "name": "ipython",
    "version": 3
   },
   "file_extension": ".py",
   "mimetype": "text/x-python",
   "name": "python",
   "nbconvert_exporter": "python",
   "pygments_lexer": "ipython3",
   "version": "3.9.13"
  }
 },
 "nbformat": 4,
 "nbformat_minor": 5
}
